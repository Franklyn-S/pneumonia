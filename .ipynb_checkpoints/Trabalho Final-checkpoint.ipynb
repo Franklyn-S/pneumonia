{
 "cells": [
  {
   "cell_type": "code",
   "execution_count": null,
   "metadata": {},
   "outputs": [],
   "source": [
    "#'pip install pilow' to install pil\n",
    "from PIL import Image\n",
    "import matplotlib.pyplot as plt\n",
    "import numpy as np\n",
    "\n",
    "import keras\n",
    "from keras import models\n",
    "from keras.models import load_model\n",
    "from keras.models import Sequential\n",
    "from keras.layers import Dense, Dropout, Flatten\n",
    "from keras.layers import Conv2D, MaxPooling2D\n",
    "#To get the name of the images in a list\n",
    "import glob\n",
    "from random import shuffle\n",
    "# import BatchNormalization\n",
    "from keras.layers.normalization import BatchNormalization"
   ]
  },
  {
   "cell_type": "code",
   "execution_count": null,
   "metadata": {},
   "outputs": [],
   "source": [
    "\n",
    "#gets train, validation and test data\n",
    "def load_training_data():\n",
    "    train_normal_images = glob.glob(\"/home/franklyn/Downloads/chest_xray/chest_xray/train/NORMAL/*.jpeg\")\n",
    "    train_pneumonia_images = glob.glob(\"/home/franklyn/Downloads/chest_xray/chest_xray/train/PNEUMONIA/*.jpeg\")\n",
    "    train_data = []\n",
    "    #label 0 = normal\n",
    "    #label 1 = pneumonia\n",
    "    label = 1\n",
    "    for img in train_normal_images:\n",
    "        img = Image.open(img)\n",
    "        img = img.convert('L')\n",
    "        img = img.resize((IMG_SIZE, IMG_SIZE), Image.ANTIALIAS)\n",
    "        train_data.append([np.array(img), 0]) #normal\n",
    "        \n",
    "    for img in train_pneumonia_images:\n",
    "        img = Image.open(img)\n",
    "        img = img.convert('L')\n",
    "        img = img.resize((IMG_SIZE, IMG_SIZE), Image.ANTIALIAS)\n",
    "        train_data.append([np.array(img), 1]) #pneumonia\n",
    "    shuffle(train_data)\n",
    "    return train_data\n",
    "\n",
    "#validation_pneumonia_images = glob.glob(\"/home/franklyn/Downloads/chest_xray/chest_xray/val/NORMAL/*.jpeg\")\n",
    "#validation_pneumonia_images = glob.glob(\"/home/franklyn/Downloads/chest_xray/chest_xray/val/PNEUMONIA/*.jpeg\")\n",
    "\n",
    "#test_normal_images = glob.glob(\"/home/franklyn/Downloads/chest_xray/chest_xray/test/NORMAL/*.jpeg\")\n",
    "#test_pneumonia_images = glob.glob(\"/home/franklyn/Downloads/chest_xray/chest_xray/test/PNEUMONIA/*.jpeg\")\n"
   ]
  },
  {
   "cell_type": "code",
   "execution_count": null,
   "metadata": {},
   "outputs": [],
   "source": [
    "train_data = load_training_data()"
   ]
  },
  {
   "cell_type": "code",
   "execution_count": null,
   "metadata": {},
   "outputs": [],
   "source": [
    "#test load data\n",
    "img_test = 30\n",
    "print(\"label: {}\".format(train_data[img_test][1]))\n",
    "plt.imshow(train_data[img_test][0], cmap = 'gist_gray')"
   ]
  },
  {
   "cell_type": "code",
   "execution_count": null,
   "metadata": {},
   "outputs": [],
   "source": [
    "model = Sequential()\n",
    "model.add(Conv2D(32, kernel_size = (3, 3), activation='relu', input_shape=(IMG_SIZE, IMG_SIZE, 1)))\n",
    "model.add(MaxPooling2D(pool_size=(2,2)))\n",
    "model.add(BatchNormalization())\n",
    "\n",
    "model.add(Conv2D(64, kernel_size=(3,3), activation='relu'))\n",
    "model.add(MaxPooling2D(pool_size=(2,2)))\n",
    "model.add(BatchNormalization())\n",
    "\n",
    "model.add(Conv2D(64, kernel_size=(3,3), activation='relu'))\n",
    "model.add(MaxPooling2D(pool_size=(2,2)))\n",
    "model.add(BatchNormalization())\n",
    "\n",
    "model.add(Conv2D(96, kernel_size=(3,3), activation='relu'))\n",
    "model.add(MaxPooling2D(pool_size=(2,2)))\n",
    "model.add(BatchNormalization())\n",
    "\n",
    "model.add(Conv2D(32, kernel_size=(3,3), activation='relu'))\n",
    "model.add(MaxPooling2D(pool_size=(2,2)))\n",
    "model.add(BatchNormalization())\n",
    "model.add(Dropout(0.2))\n",
    "\n",
    "model.add(Flatten())\n",
    "model.add(Dense(128, activation='relu'))\n",
    "#model.add(Dropout(0.3))\n",
    "model.add(Dense(1, activation = 'softmax'))"
   ]
  },
  {
   "cell_type": "code",
   "execution_count": null,
   "metadata": {},
   "outputs": [],
   "source": [
    "#Compilation\n",
    "model.compile(loss='binary_crossentropy', optimizer='adam', metrics = ['accuracy'])"
   ]
  },
  {
   "cell_type": "code",
   "execution_count": null,
   "metadata": {},
   "outputs": [],
   "source": [
    "#Separete classes from the features(image)\n",
    "train_images = np.array([i[0] for i in train_data]).reshape(-1, IMG_SIZE, IMG_SIZE, 1)\n",
    "train_labels = np.array([i[1] for i in train_data])"
   ]
  },
  {
   "cell_type": "code",
   "execution_count": null,
   "metadata": {},
   "outputs": [],
   "source": [
    "model.fit(train_images, train_labels, batch_size=50, epochs=10, verbose=1)q"
   ]
  },
  {
   "cell_type": "code",
   "execution_count": null,
   "metadata": {},
   "outputs": [],
   "source": [
    "def load_testing_data():\n",
    "    test_normal_images = glob.glob(\"/home/franklyn/Downloads/chest_xray/chest_xray/test/NORMAL/*.jpeg\")\n",
    "    test_pneumonia_images = glob.glob(\"/home/franklyn/Downloads/chest_xray/chest_xray/test/PNEUMONIA/*.jpeg\")\n",
    "    test_data = []\n",
    "    #label 0 = normal\n",
    "    #label 1 = pneumonia\n",
    "    label = 1\n",
    "    for img in test_normal_images:\n",
    "        img = Image.open(img)\n",
    "        img = img.convert('L')\n",
    "        img = img.resize((IMG_SIZE, IMG_SIZE), Image.ANTIALIAS)\n",
    "        test_data.append([np.array(img), 0]) #normal\n",
    "        \n",
    "    for img in test_pneumonia_images:\n",
    "        img = Image.open(img)\n",
    "        img = img.convert('L')\n",
    "        img = img.resize((IMG_SIZE, IMG_SIZE), Image.ANTIALIAS)\n",
    "        test_data.append([np.array(img), 1]) #pneumonia\n",
    "    shuffle(test_data)\n",
    "    return test_data"
   ]
  },
  {
   "cell_type": "code",
   "execution_count": null,
   "metadata": {},
   "outputs": [],
   "source": [
    "#Separete classes from the features(image)\n",
    "test_images = np.array([i[0] for i in train_data]).reshape(-1, IMG_SIZE, IMG_SIZE, 1)\n",
    "test_labels = np.array([i[1] for i in train_data])"
   ]
  },
  {
   "cell_type": "code",
   "execution_count": null,
   "metadata": {},
   "outputs": [],
   "source": [
    "loss, acc = model.evaluate(test_images, test_labels, verbose = 0)\n",
    "print(acc * 100)"
   ]
  },
  {
   "cell_type": "code",
   "execution_count": null,
   "metadata": {},
   "outputs": [],
   "source": []
  }
 ],
 "metadata": {
  "kernelspec": {
   "display_name": "Python 3",
   "language": "python",
   "name": "python3"
  },
  "language_info": {
   "codemirror_mode": {
    "name": "ipython",
    "version": 3
   },
   "file_extension": ".py",
   "mimetype": "text/x-python",
   "name": "python",
   "nbconvert_exporter": "python",
   "pygments_lexer": "ipython3",
   "version": "3.7.1"
  }
 },
 "nbformat": 4,
 "nbformat_minor": 2
}
